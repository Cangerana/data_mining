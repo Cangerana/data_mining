{
 "cells": [
  {
   "cell_type": "code",
   "execution_count": null,
   "metadata": {},
   "outputs": [],
   "source": [
    "import pandas as pd\n",
    "import json\n",
    "import seaborn as sns\n",
    "import matplotlib.pylab as plt\n",
    "import matplotlib.pyplot as plt\n",
    "from random import random\n",
    "from scipy.interpolate import interp1d\n",
    "import numpy as np\n",
    "from time import sleep"
   ]
  },
  {
   "cell_type": "code",
   "execution_count": null,
   "id": "aac4a274",
   "metadata": {},
   "outputs": [],
   "source": [
    "import pandas as pd\n",
    "import json\n",
    "import seaborn as sns\n",
    "import matplotlib.pylab as plt\n",
    "import matplotlib.pyplot as plt\n",
    "from random import random\n",
    "from scipy.interpolate import interp1d\n",
    "import numpy as np\n",
    "from time import sleep"
   ]
  },
  {
   "cell_type": "code",
   "execution_count": null,
   "id": "0fc54bad",
   "metadata": {},
   "outputs": [],
   "source": [
    "sns.set(rc={\"figure.figsize\":(18, 9)}) "
   ]
  },
  {
   "cell_type": "code",
   "execution_count": null,
   "id": "4382e851",
   "metadata": {},
   "outputs": [],
   "source": [
    "with open('data/dados_discentes.json', 'r') as f:\n",
    "    data = json.load(f)\n",
    "data"
   ]
  },
  {
   "cell_type": "code",
   "execution_count": null,
   "id": "19ac80c3",
   "metadata": {},
   "outputs": [],
   "source": [
    "df = {\n",
    "    'campus': [],\n",
    "    'ano': [],\n",
    "    'semestre': [],\n",
    "    'curso': [],\n",
    "    'tipo_curso': [],\n",
    "    'modalidade': [],\n",
    "    'sexo': [],\n",
    "    'escolaridade': [],\n",
    "    'algo': [],\n",
    "    'cor': [],\n",
    "    'nascimento': [],\n",
    "    'status': []\n",
    "}\n",
    "\n",
    "for itens in data:\n",
    "    item = itens['itens']\n",
    "    df['campus'].append(item[0]['valor'])\n",
    "    df['ano'].append(item[1]['valor'])\n",
    "    df['semestre'].append(item[2]['valor'])\n",
    "    df['curso'].append(item[3]['valor'])\n",
    "    df['tipo_curso'].append(item[4]['valor'])\n",
    "    df['modalidade'].append(item[5]['valor'])\n",
    "    df['sexo'].append(item[6]['valor'])\n",
    "    df['escolaridade'].append(item[7]['valor'])\n",
    "    df['algo'].append(item[8]['valor'])\n",
    "    df['cor'].append(item[9]['valor'])\n",
    "    df['nascimento'].append(item[10]['valor'])\n",
    "    df['status'].append(item[11]['valor'])\n",
    "\n",
    "df.keys()"
   ]
  },
  {
   "cell_type": "code",
   "execution_count": null,
   "id": "cc156432",
   "metadata": {},
   "outputs": [],
   "source": [
    "df = pd.DataFrame(df)\n",
    "df"
   ]
  },
  {
   "cell_type": "code",
   "execution_count": null,
   "id": "54a6d5b7",
   "metadata": {},
   "outputs": [],
   "source": [
    "classes = []\n",
    "\n",
    "for renda in df['algo']:\n",
    "    if renda not in classes:\n",
    "        classes.append(renda)\n",
    "\n",
    "rename_renda = lambda x: classes.index(x)\n",
    "\n",
    "df['renda'] = df['algo'].apply(rename_renda)\n",
    "df = df.drop(columns=['algo'])\n"
   ]
  },
  {
   "cell_type": "code",
   "execution_count": null,
   "id": "5a42bb29",
   "metadata": {},
   "outputs": [],
   "source": [
    "numericos = ['ano', 'semestre', 'nascimento']\n",
    "\n",
    "df[numericos] = df[numericos].astype(int)\n",
    "\n",
    "df.info()\n"
   ]
  },
  {
   "cell_type": "code",
   "execution_count": null,
   "id": "6c0b3a9b",
   "metadata": {},
   "outputs": [],
   "source": [
    "categoricos = [col for col in df.columns if col not in numericos and col != 'status']\n",
    "\n",
    "df_posprocessing = df.copy()\n",
    "df_posprocessing = df_posprocessing.drop(columns=categoricos)\n",
    "\n",
    "ohc = pd.get_dummies(df[categoricos])\n",
    "\n",
    "df_posprocessing[ohc.columns] = ohc\n",
    "df_posprocessing\n",
    "\n",
    "\n"
   ]
  },
  {
   "cell_type": "code",
   "execution_count": null,
   "id": "7fa399db",
   "metadata": {},
   "outputs": [],
   "source": [
    "df_posprocessing[['semestre']].describe()"
   ]
  },
  {
   "cell_type": "code",
   "execution_count": null,
   "id": "ea290f58",
   "metadata": {},
   "outputs": [],
   "source": [
    "for col in numericos:\n",
    "    df_posprocessing[col] = (df_posprocessing[col] - df_posprocessing[col].min()) / (df_posprocessing[col].max() - df_posprocessing[col].min())"
   ]
  },
  {
   "cell_type": "code",
   "execution_count": null,
   "id": "9d722db6",
   "metadata": {},
   "outputs": [],
   "source": [
    "df_posprocessing[numericos]"
   ]
  },
  {
   "cell_type": "code",
   "execution_count": null,
   "id": "2de3cdd8",
   "metadata": {},
   "outputs": [],
   "source": [
    "df_posprocessing"
   ]
  },
  {
   "cell_type": "code",
   "execution_count": null,
   "id": "f029987f",
   "metadata": {},
   "outputs": [],
   "source": [
    "df_posprocessing\n",
    "# df_posprocessing"
   ]
  },
  {
   "cell_type": "markdown",
   "id": "44391ac9",
   "metadata": {},
   "source": [
    "## Analise dos Dados"
   ]
  },
  {
   "cell_type": "code",
   "execution_count": null,
   "id": "ca6c5cb9",
   "metadata": {},
   "outputs": [],
   "source": [
    "\n",
    "def plot_count(df, column):\n",
    "    sns.countplot(df[column])\n",
    "    plt.xticks(rotation=90)"
   ]
  },
  {
   "cell_type": "code",
   "execution_count": null,
   "id": "44c9bb45",
   "metadata": {},
   "outputs": [],
   "source": [
    "plot_count(df, 'campus')"
   ]
  },
  {
   "cell_type": "code",
   "execution_count": null,
   "id": "70564c49",
   "metadata": {},
   "outputs": [],
   "source": [
    "plot_count(df, 'semestre')"
   ]
  },
  {
   "cell_type": "code",
   "execution_count": null,
   "id": "1a989cde",
   "metadata": {},
   "outputs": [],
   "source": [
    "plot_count(df, 'tipo_curso')"
   ]
  },
  {
   "cell_type": "code",
   "execution_count": null,
   "id": "2c91d3a4",
   "metadata": {},
   "outputs": [],
   "source": [
    "plot_count(df, 'modalidade')"
   ]
  },
  {
   "cell_type": "code",
   "execution_count": null,
   "id": "31d98415",
   "metadata": {},
   "outputs": [],
   "source": [
    "plot_count(df, 'sexo')"
   ]
  },
  {
   "cell_type": "code",
   "execution_count": null,
   "id": "329d33ba",
   "metadata": {},
   "outputs": [],
   "source": [
    "plot_count(df, 'escolaridade')"
   ]
  },
  {
   "cell_type": "code",
   "execution_count": null,
   "id": "4d6bd117",
   "metadata": {},
   "outputs": [],
   "source": [
    "plot_count(df, 'cor')\n"
   ]
  },
  {
   "cell_type": "code",
   "execution_count": null,
   "id": "3871bdac",
   "metadata": {},
   "outputs": [],
   "source": [
    "plot_count(df, 'status')"
   ]
  },
  {
   "cell_type": "code",
   "execution_count": null,
   "id": "2dec7737",
   "metadata": {},
   "outputs": [],
   "source": [
    "plot_count(df, 'ano')"
   ]
  },
  {
   "cell_type": "code",
   "execution_count": null,
   "id": "0af34383",
   "metadata": {},
   "outputs": [],
   "source": [
    "plot_count(df, 'ano')"
   ]
  },
  {
   "cell_type": "code",
   "execution_count": null,
   "id": "0c6049a5",
   "metadata": {},
   "outputs": [],
   "source": [
    "sns.displot(df['campus'], kde=True, height=8, aspect=2.5)\n",
    "plt.xticks(rotation=90)\n",
    "plt.show()"
   ]
  },
  {
   "cell_type": "code",
   "execution_count": null,
   "id": "d3d988b3",
   "metadata": {},
   "outputs": [],
   "source": [
    "ax = sns.boxplot(x=df['status'],y=df['nascimento'])\n",
    "plt.xticks(rotation=90)\n",
    "plt.ylim([1940,2022])"
   ]
  },
  {
   "cell_type": "code",
   "execution_count": null,
   "id": "52402efc",
   "metadata": {},
   "outputs": [],
   "source": [
    "ax = sns.boxplot(df['status'],df['ano'])\n",
    "plt.xticks(rotation=90);"
   ]
  },
  {
   "cell_type": "code",
   "execution_count": null,
   "id": "472a723a",
   "metadata": {},
   "outputs": [],
   "source": [
    "ax = sns.boxplot(x=df['modalidade'],y=df['ano'])\n",
    "plt.xticks(rotation=90);"
   ]
  },
  {
   "cell_type": "code",
   "execution_count": null,
   "id": "d9517f42",
   "metadata": {},
   "outputs": [],
   "source": [
    "status = [x  for x in df_posprocessing.keys() if 'status' in x]\n",
    "campus = [x  for x in df_posprocessing.keys() if 'campus' in x]\n",
    "sns.set(rc={\"figure.figsize\":(14, 7)}) \n",
    "\n",
    "sns.heatmap(df_posprocessing[status + campus].corr());"
   ]
  },
  {
   "cell_type": "code",
   "execution_count": null,
   "id": "04fceebb",
   "metadata": {},
   "outputs": [],
   "source": [
    "status = [x  for x in df_posprocessing.keys() if 'status' in x]\n",
    "modalidade = [x  for x in df_posprocessing.keys() if 'modalidade' in x]\n",
    "sns.heatmap(df_posprocessing[status+modalidade].corr());"
   ]
  },
  {
   "cell_type": "code",
   "execution_count": null,
   "id": "528acd59",
   "metadata": {},
   "outputs": [],
   "source": [
    "ax = sns.barplot(y=\"ano\", x=\"status\", data=df)\n",
    "plt.xticks(rotation=90)\n",
    "plt.ylim([2005,2025])"
   ]
  },
  {
   "cell_type": "code",
   "execution_count": null,
   "id": "d4d40f51",
   "metadata": {},
   "outputs": [],
   "source": [
    "status = [x  for x in df_posprocessing.keys() if 'status' in x]\n",
    "sns.heatmap(df_posprocessing[['ano','nascimento']+status].corr());"
   ]
  },
  {
   "cell_type": "code",
   "execution_count": null,
   "id": "7d46eb56",
   "metadata": {},
   "outputs": [],
   "source": [
    "distancia = df[df['modalidade'] == 'À Distância']\n",
    "presencial = df[df['modalidade'] != 'À Distância']"
   ]
  },
  {
   "cell_type": "code",
   "execution_count": null,
   "id": "82cea654",
   "metadata": {},
   "outputs": [],
   "source": [
    "plot_count(distancia, 'ano')"
   ]
  },
  {
   "cell_type": "code",
   "execution_count": null,
   "id": "8e4203c3",
   "metadata": {},
   "outputs": [],
   "source": [
    "plot_count(presencial, 'ano')"
   ]
  },
  {
   "cell_type": "code",
   "execution_count": null,
   "id": "1aa1a299",
   "metadata": {},
   "outputs": [],
   "source": [
    "plot_count(distancia, 'status')"
   ]
  },
  {
   "cell_type": "code",
   "execution_count": null,
   "id": "ebb279c9",
   "metadata": {},
   "outputs": [],
   "source": [
    "plot_count(presencial, 'status')"
   ]
  },
  {
   "cell_type": "code",
   "execution_count": null,
   "id": "bfb07ae3",
   "metadata": {},
   "outputs": [],
   "source": [
    "ax = sns.boxplot(df['campus'],df['ano'])\n",
    "plt.xticks(rotation=90);"
   ]
  },
  {
   "cell_type": "code",
   "execution_count": null,
   "id": "fc5a11f4",
   "metadata": {},
   "outputs": [],
   "source": [
    "# verificando campus com mais alunos novos em 2013\n",
    "plot_count(df[df['ano'] == 2015], 'campus')"
   ]
  },
  {
   "cell_type": "code",
   "execution_count": null,
   "id": "62a8871e",
   "metadata": {},
   "outputs": [],
   "source": [
    "def entrada_campus(df, campus):\n",
    "    campus = df[df['campus'] == campus]\n",
    "    sns.displot(campus['ano'], kde=True, height=8, aspect=2.5)\n",
    "    plt.xticks(rotation=90)\n",
    "    plt.show()"
   ]
  },
  {
   "cell_type": "code",
   "execution_count": null,
   "id": "aea45232",
   "metadata": {},
   "outputs": [],
   "source": [
    "entrada_campus(df, 'Câmpus Goiânia')"
   ]
  },
  {
   "cell_type": "code",
   "execution_count": null,
   "id": "1667e246",
   "metadata": {},
   "outputs": [],
   "source": [
    "entrada_campus(df, 'Câmpus Anápolis')"
   ]
  },
  {
   "cell_type": "code",
   "execution_count": null,
   "id": "eb8f17eb",
   "metadata": {},
   "outputs": [],
   "source": [
    "evasao = df[df['status'] == 'Evasão']"
   ]
  },
  {
   "cell_type": "code",
   "execution_count": null,
   "id": "59a031ab",
   "metadata": {},
   "outputs": [],
   "source": [
    "evasao.count()"
   ]
  },
  {
   "cell_type": "code",
   "execution_count": null,
   "id": "799279da",
   "metadata": {},
   "outputs": [],
   "source": [
    "plot_count(evasao, 'renda')"
   ]
  },
  {
   "cell_type": "code",
   "execution_count": null,
   "id": "a812bf81",
   "metadata": {},
   "outputs": [],
   "source": [
    "plot_count(df, 'renda')"
   ]
  },
  {
   "cell_type": "code",
   "execution_count": null,
   "id": "35304615",
   "metadata": {},
   "outputs": [],
   "source": [
    "classes"
   ]
  },
  {
   "cell_type": "code",
   "execution_count": null,
   "id": "7c7879ce",
   "metadata": {},
   "outputs": [],
   "source": [
    "sorted(df['ano'].unique())"
   ]
  },
  {
   "cell_type": "markdown",
   "id": "268d1ff8",
   "metadata": {},
   "source": [
    "## Questões a serem respondidas:\n",
    "\n",
    "> Em escala qual o curso que teve maior aumento da taxa de evasão no decorrer do tempo?"
   ]
  },
  {
   "cell_type": "code",
   "execution_count": null,
   "id": "d6da17ae",
   "metadata": {},
   "outputs": [],
   "source": [
    "query_df = lambda df, column, query: df[df[column] == query]\n",
    "\n",
    "def taxa_evasao_ano(df, campus):\n",
    "    campus = query_df(df, 'campus', campus)\n",
    "    \n",
    "    taxa_evasao = {}\n",
    "    for ano in campus['nascimento'].unique():\n",
    "        taxa = query_df(campus, 'nascimento', ano)\n",
    "        taxa_evasao[ano] = query_df(taxa, 'status', 'Evasão').shape[0] / taxa.shape[0] * 100\n",
    "\n",
    "    return taxa_evasao\n"
   ]
  },
  {
   "cell_type": "code",
   "execution_count": null,
   "id": "14bfe388",
   "metadata": {},
   "outputs": [],
   "source": []
  },
  {
   "cell_type": "code",
   "execution_count": null,
   "id": "63ee300f",
   "metadata": {},
   "outputs": [],
   "source": [
    "def generete_color():\n",
    "    return float(f'{random():0.1f}'), float(f'{random():0.1f}'), float(f'{random():0.1f}')\n",
    "\n",
    "def plot_taxa(x, y, color, label):\n",
    "    x = np.array(x)\n",
    "    y = np.array(y)\n",
    " \n",
    "    x_new = np.linspace(x.min(), x.max(), 200)\n",
    "\n",
    "    f = interp1d(x, y, kind='quadratic')\n",
    "    y_smooth=f(x_new)\n",
    "\n",
    "    plt.plot(\n",
    "        x_new,\n",
    "        y_smooth,\n",
    "        color=color,\n",
    "        label=label\n",
    "    )\n",
    "\n",
    "    plt.scatter(x, y, color=color)\n",
    "    \n",
    "    plt.xlabel('Ano')\n",
    "    plt.ylabel('Taxa de Evasão (%)')\n",
    "    \n",
    "    plt.legend()"
   ]
  },
  {
   "cell_type": "code",
   "execution_count": null,
   "id": "802559d0",
   "metadata": {},
   "outputs": [],
   "source": []
  },
  {
   "cell_type": "code",
   "execution_count": null,
   "id": "9f32f17a",
   "metadata": {},
   "outputs": [],
   "source": [
    "campus = presencial['campus'].unique()\n",
    "\n",
    "taxa_campus = {}\n",
    "for cam in campus:\n",
    "    taxa_campus[cam] = taxa_evasao_ano(presencial, cam)\n",
    "    x = list(taxa_campus[cam].keys())\n",
    "    y = list(taxa_campus[cam].values())\n",
    "    plot_taxa(\n",
    "        x,\n",
    "        y,\n",
    "        color=generete_color(),\n",
    "        label=cam\n",
    "    )\n",
    "    plt.show() # comentar essa linha para comparar todos os campus"
   ]
  },
  {
   "cell_type": "markdown",
   "id": "26d52283",
   "metadata": {},
   "source": [
    "df"
   ]
  },
  {
   "cell_type": "code",
   "execution_count": null,
   "id": "2998d599",
   "metadata": {},
   "outputs": [],
   "source": [
    "df_posprocessing"
   ]
  },
  {
   "cell_type": "code",
   "execution_count": null,
   "id": "a93213e1",
   "metadata": {},
   "outputs": [],
   "source": [
    "evasao = df[df['status'] == 'Evasão']\n",
    "concluido = df[df['status'] == 'Concluído']\n",
    "jubilado = df[df['status'] == 'Jubilado']\n",
    "cancelamento_compulsorio  = df[df['status'] == 'Cancelamento Compulsório']\n",
    "cancelado  = df[df['status'] == 'Cancelado']\n",
    "formado  = df[df['status'] == 'Formado']\n",
    "# set(df['status'])df_tarefa5\n",
    "dfs = [concluido,jubilado,cancelado,cancelamento_compulsorio,formado]\n",
    "df_tarefa5 = evasao\n",
    "for i in range(len(dfs)):\n",
    "    df_tarefa5 = df_tarefa5.append(dfs[i], ignore_index=True)\n"
   ]
  },
  {
   "cell_type": "code",
   "execution_count": null,
   "id": "5ef8467c",
   "metadata": {},
   "outputs": [],
   "source": [
    "# pd.DataFrame(np.random.randn(8, 4),\n",
    "\n",
    "#                   index=dates, columns=['A', 'B', 'C', 'D'])"
   ]
  },
  {
   "cell_type": "code",
   "execution_count": null,
   "id": "aa083a2e",
   "metadata": {},
   "outputs": [],
   "source": [
    "\n",
    "\n",
    "\n",
    "\n",
    "for i in range(len(df_tarefa5['status'])):\n",
    "    if df_tarefa5['status'][i] in ['Cancelado', 'Cancelamento Compulsório', 'Jubilado']:\n",
    "         df_tarefa5['status'][i] = 'Evasão'\n",
    "         \n",
    "    if df_tarefa5['status'][i] == 'Formado':\n",
    "         df_tarefa5['status'][i] = 'Concluído'"
   ]
  },
  {
   "cell_type": "code",
   "execution_count": null,
   "id": "bfa87066",
   "metadata": {},
   "outputs": [],
   "source": [
    "set(df_tarefa5['status'])"
   ]
  },
  {
   "cell_type": "code",
   "execution_count": null,
   "id": "235e1e91",
   "metadata": {},
   "outputs": [],
   "source": []
  },
  {
   "cell_type": "code",
   "execution_count": null,
   "id": "93c5121b",
   "metadata": {},
   "outputs": [],
   "source": [
    "categoricos = [col for col in df.columns if col not in numericos and col != 'status']\n",
    "\n",
    "df_tarefa5_pos = df_tarefa5.copy()\n",
    "\n",
    "df_tarefa5_pos = df_tarefa5_pos.drop(columns=categoricos)\n",
    "\n",
    "ohc = pd.get_dummies(df[categoricos])\n",
    "\n",
    "df_tarefa5_pos[ohc.columns] = ohc\n",
    "df_tarefa5_pos\n",
    "categoricos"
   ]
  },
  {
   "cell_type": "code",
   "execution_count": null,
   "id": "0b8a0fe8",
   "metadata": {},
   "outputs": [],
   "source": []
  },
  {
   "cell_type": "code",
   "execution_count": null,
   "id": "cf81eb05",
   "metadata": {},
   "outputs": [],
   "source": [
    "# !pip install graphviz"
   ]
  },
  {
   "cell_type": "code",
   "execution_count": null,
   "id": "be42fc4f",
   "metadata": {},
   "outputs": [],
   "source": [
    "# df.columns"
   ]
  },
  {
   "cell_type": "code",
   "execution_count": null,
   "id": "1534209a",
   "metadata": {},
   "outputs": [],
   "source": [
    "from sklearn import tree\n",
    "df_tarefa5_pos = df_tarefa5_pos\n",
    "X = df_tarefa5_pos.drop(['status'], axis=1)\n",
    "Y = df_tarefa5_pos['status']\n",
    "clf = tree.DecisionTreeClassifier(random_state=0, max_depth=3,criterion='entropy')\n",
    "# RandomForestClassifier\n",
    "\n",
    "clf = clf.fit(X, Y)\n",
    "\n",
    "tree.plot_tree(clf,feature_names=X.columns)"
   ]
  },
  {
   "cell_type": "code",
   "execution_count": null,
   "id": "f51df554",
   "metadata": {},
   "outputs": [],
   "source": [
    "for i in range(len(df_tarefa5['status'])):\n",
    "    if df_tarefa5['status'][i] in ['Cancelado', 'Cancelamento Compulsório', 'Jubilado','Evasão']:\n",
    "         df_tarefa5['status'][i] = 0.0\n",
    "         \n",
    "    if df_tarefa5['status'][i] in ['Formado','Concluído']:\n",
    "         df_tarefa5['status'][i] = 1.0"
   ]
  },
  {
   "cell_type": "code",
   "execution_count": null,
   "id": "ec67c263",
   "metadata": {},
   "outputs": [],
   "source": [
    "df_tarefa5['status'] =   df_tarefa5['status'].astype(int)"
   ]
  },
  {
   "cell_type": "code",
   "execution_count": null,
   "id": "27e80634",
   "metadata": {},
   "outputs": [],
   "source": []
  },
  {
   "cell_type": "code",
   "execution_count": 87,
   "id": "23a99a40",
   "metadata": {},
   "outputs": [
    {
     "name": "stdout",
     "output_type": "stream",
     "text": [
      "StratifiedKFold(n_splits=2, random_state=None, shuffle=True)\n"
     ]
    },
    {
     "name": "stderr",
     "output_type": "stream",
     "text": [
      "/tmp/ipykernel_15174/3806612766.py:32: DataConversionWarning: A column-vector y was passed when a 1d array was expected. Please change the shape of y to (n_samples,), for example using ravel().\n",
      "  clf.fit(X_train,y_train)\n"
     ]
    },
    {
     "name": "stdout",
     "output_type": "stream",
     "text": [
      "0.9476410314153811\n"
     ]
    },
    {
     "name": "stderr",
     "output_type": "stream",
     "text": [
      "/tmp/ipykernel_15174/3806612766.py:32: DataConversionWarning: A column-vector y was passed when a 1d array was expected. Please change the shape of y to (n_samples,), for example using ravel().\n",
      "  clf.fit(X_train,y_train)\n"
     ]
    },
    {
     "name": "stdout",
     "output_type": "stream",
     "text": [
      "0.9489001692047377\n"
     ]
    }
   ],
   "source": [
    "from sklearn.ensemble import RandomForestClassifier\n",
    "from sklearn.datasets import make_classification\n",
    "\n",
    "# clf = RandomForestClassifier(max_depth=2, random_state=0)\n",
    "# clf.fit(X, Y)\n",
    "# clf.feature_importances_\n",
    "# plt.barh(feature_names, clf.feature_importances_)\n",
    "\n",
    "# sorted_idx = clf.feature_importances_.argsort()\n",
    "# sorted_idx = sorted_idx\n",
    "# f2 = [X.columns[i]  for i in range(len(X.columns[sorted_idx])) if i in sorted_idx  ]\n",
    "# plt.barh(f2, clf.feature_importances_[sorted_idx])\n",
    "# plt.xlabel(\"Random Forest Feature Importance\")\n",
    "\n",
    "\n",
    "import numpy as np\n",
    "from sklearn.model_selection import StratifiedKFold\n",
    "from sklearn.metrics import f1_score\n",
    "\n",
    "X = df_tarefa5_pos.drop(['status'],axis=1).to_numpy()\n",
    "y =  df_tarefa5['status'].to_numpy().reshape(-1,1)\n",
    "skf = StratifiedKFold(n_splits=2,shuffle=True)\n",
    "skf.get_n_splits(X, y)\n",
    "\n",
    "print(skf)\n",
    "\n",
    "# clf = RandomForestClassifier(random_state=0,max_features=0.99,max_samples=0.99,n_estimators=2)\n",
    "clf = RandomForestClassifier(random_state=0)\n",
    "for train_index, test_index in skf.split(X, y):\n",
    "    X_train, X_test = X[train_index], X[test_index]\n",
    "    y_train, y_test = y[train_index], y[test_index]\n",
    "    clf.fit(X_train,y_train)\n",
    "    result = clf.predict(X_test)\n",
    "    # print(y_test.shape)\n",
    "    print(f1_score(y_test,result))"
   ]
  }
 ],
 "metadata": {
  "interpreter": {
   "hash": "916dbcbb3f70747c44a77c7bcd40155683ae19c65e1c03b4aa3499c5328201f1"
  },
  "kernelspec": {
   "display_name": "Python 3.8.10 64-bit",
   "language": "python",
   "name": "python3"
  },
  "language_info": {
   "codemirror_mode": {
    "name": "ipython",
    "version": 3
   },
   "file_extension": ".py",
   "mimetype": "text/x-python",
   "name": "python",
   "nbconvert_exporter": "python",
   "pygments_lexer": "ipython3",
   "version": "3.8.10"
  }
 },
 "nbformat": 4,
 "nbformat_minor": 5
}
