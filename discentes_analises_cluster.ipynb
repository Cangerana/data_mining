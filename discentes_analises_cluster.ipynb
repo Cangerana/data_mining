{
 "cells": [
  {
   "cell_type": "code",
   "execution_count": null,
   "metadata": {},
   "outputs": [],
   "source": [
    "import pandas as pd\n",
    "import json\n",
    "import seaborn as sns\n",
    "import matplotlib.pylab as plt\n",
    "from sklearn.feature_extraction.text import TfidfVectorizer\n",
    "from sklearn.cluster import KMeans\n"
   ]
  },
  {
   "cell_type": "code",
   "execution_count": null,
   "id": "0fc54bad",
   "metadata": {},
   "outputs": [],
   "source": [
    "sns.set(rc={\"figure.figsize\":(18, 9)}) "
   ]
  },
  {
   "cell_type": "code",
   "execution_count": null,
   "id": "4382e851",
   "metadata": {},
   "outputs": [],
   "source": [
    "with open('data/dados_discentes.json', 'r') as f:\n",
    "    data = json.load(f)\n",
    "data"
   ]
  },
  {
   "cell_type": "code",
   "execution_count": null,
   "id": "19ac80c3",
   "metadata": {},
   "outputs": [],
   "source": [
    "df = {\n",
    "    'campus': [],\n",
    "    'ano': [],\n",
    "    'semestre': [],\n",
    "    'curso': [],\n",
    "    'tipo_curso': [],\n",
    "    'modalidade': [],\n",
    "    'sexo': [],\n",
    "    'escolaridade': [],\n",
    "    'algo': [],\n",
    "    'cor': [],\n",
    "    'nascimento': [],\n",
    "    'status': []\n",
    "}\n",
    "\n",
    "for itens in data:\n",
    "    item = itens['itens']\n",
    "    df['campus'].append(item[0]['valor'])\n",
    "    df['ano'].append(item[1]['valor'])\n",
    "    df['semestre'].append(item[2]['valor'])\n",
    "    df['curso'].append(item[3]['valor'])\n",
    "    df['tipo_curso'].append(item[4]['valor'])\n",
    "    df['modalidade'].append(item[5]['valor'])\n",
    "    df['sexo'].append(item[6]['valor'])\n",
    "    df['escolaridade'].append(item[7]['valor'])\n",
    "    df['algo'].append(item[8]['valor'])\n",
    "    df['cor'].append(item[9]['valor'])\n",
    "    df['nascimento'].append(item[10]['valor'])\n",
    "    df['status'].append(item[11]['valor'])\n",
    "\n",
    "df.keys()"
   ]
  },
  {
   "cell_type": "code",
   "execution_count": null,
   "id": "cc156432",
   "metadata": {},
   "outputs": [],
   "source": [
    "df = pd.DataFrame(df)\n",
    "df"
   ]
  },
  {
   "cell_type": "code",
   "execution_count": null,
   "id": "54a6d5b7",
   "metadata": {},
   "outputs": [],
   "source": [
    "classes = []\n",
    "\n",
    "for renda in df['algo']:\n",
    "    if renda not in classes:\n",
    "        classes.append(renda)\n",
    "\n",
    "rename_renda = lambda x: classes.index(x)\n",
    "\n",
    "df['renda'] = df['algo'].apply(rename_renda)\n",
    "df = df.drop(columns=['algo'])\n"
   ]
  },
  {
   "cell_type": "code",
   "execution_count": null,
   "id": "5a42bb29",
   "metadata": {},
   "outputs": [],
   "source": [
    "numericos = ['ano', 'semestre', 'nascimento']\n",
    "\n",
    "df[numericos] = df[numericos].astype(int)\n",
    "\n",
    "df.info()\n"
   ]
  },
  {
   "cell_type": "code",
   "execution_count": null,
   "id": "6c0b3a9b",
   "metadata": {},
   "outputs": [],
   "source": [
    "categoricos = [col for col in df.columns if col not in numericos]\n",
    "\n",
    "df_posprocessing = df.copy()\n",
    "df_posprocessing = df_posprocessing.drop(columns=categoricos)\n",
    "\n",
    "ohc = pd.get_dummies(df[categoricos])\n",
    "\n",
    "df_posprocessing[ohc.columns] = ohc\n",
    "df_posprocessing"
   ]
  },
  {
   "cell_type": "code",
   "execution_count": null,
   "id": "7fa399db",
   "metadata": {},
   "outputs": [],
   "source": [
    "df_posprocessing[['semestre']].describe()"
   ]
  },
  {
   "cell_type": "code",
   "execution_count": null,
   "id": "ea290f58",
   "metadata": {},
   "outputs": [],
   "source": [
    "for col in numericos:\n",
    "    df_posprocessing[col] = (df_posprocessing[col] - df_posprocessing[col].min()) / (df_posprocessing[col].max() - df_posprocessing[col].min())"
   ]
  },
  {
   "cell_type": "code",
   "execution_count": null,
   "id": "9d722db6",
   "metadata": {},
   "outputs": [],
   "source": [
    "df_posprocessing[numericos]"
   ]
  },
  {
   "cell_type": "code",
   "execution_count": null,
   "id": "f029987f",
   "metadata": {},
   "outputs": [],
   "source": [
    "df_posprocessing.corr()['status_Não Concluído']"
   ]
  },
  {
   "cell_type": "markdown",
   "id": "44391ac9",
   "metadata": {},
   "source": [
    "## Analise dos Dados"
   ]
  },
  {
   "cell_type": "code",
   "execution_count": null,
   "id": "ca6c5cb9",
   "metadata": {},
   "outputs": [],
   "source": [
    "\n",
    "def plot_count(df, column):\n",
    "    sns.countplot(df[column])\n",
    "    plt.xticks(rotation=90)"
   ]
  },
  {
   "cell_type": "code",
   "execution_count": null,
   "id": "44c9bb45",
   "metadata": {},
   "outputs": [],
   "source": [
    "plot_count(df, 'campus')"
   ]
  },
  {
   "cell_type": "code",
   "execution_count": null,
   "id": "70564c49",
   "metadata": {},
   "outputs": [],
   "source": [
    "plot_count(df, 'semestre')"
   ]
  },
  {
   "cell_type": "code",
   "execution_count": null,
   "id": "1a989cde",
   "metadata": {},
   "outputs": [],
   "source": [
    "plot_count(df, 'tipo_curso')"
   ]
  },
  {
   "cell_type": "code",
   "execution_count": null,
   "id": "2c91d3a4",
   "metadata": {},
   "outputs": [],
   "source": [
    "plot_count(df, 'modalidade')"
   ]
  },
  {
   "cell_type": "code",
   "execution_count": null,
   "id": "31d98415",
   "metadata": {},
   "outputs": [],
   "source": [
    "plot_count(df, 'sexo')"
   ]
  },
  {
   "cell_type": "code",
   "execution_count": null,
   "id": "329d33ba",
   "metadata": {},
   "outputs": [],
   "source": [
    "plot_count(df, 'escolaridade')"
   ]
  },
  {
   "cell_type": "code",
   "execution_count": null,
   "id": "4d6bd117",
   "metadata": {},
   "outputs": [],
   "source": [
    "plot_count(df, 'cor')\n"
   ]
  },
  {
   "cell_type": "code",
   "execution_count": null,
   "id": "3871bdac",
   "metadata": {},
   "outputs": [],
   "source": [
    "plot_count(df, 'status')"
   ]
  },
  {
   "cell_type": "code",
   "execution_count": null,
   "id": "2dec7737",
   "metadata": {},
   "outputs": [],
   "source": [
    "plot_count(df, 'ano')"
   ]
  },
  {
   "cell_type": "code",
   "execution_count": null,
   "id": "0af34383",
   "metadata": {},
   "outputs": [],
   "source": [
    "plot_count(df, 'ano')"
   ]
  },
  {
   "cell_type": "code",
   "execution_count": null,
   "id": "0c6049a5",
   "metadata": {},
   "outputs": [],
   "source": [
    "sns.displot(df['campus'], kde=True, height=8, aspect=2.5)\n",
    "plt.xticks(rotation=90)\n",
    "plt.show()"
   ]
  },
  {
   "cell_type": "code",
   "execution_count": null,
   "id": "d3d988b3",
   "metadata": {},
   "outputs": [],
   "source": [
    "ax = sns.boxplot(x=df['status'],y=df['nascimento'])\n",
    "plt.xticks(rotation=90)\n",
    "plt.ylim([1940,2022])"
   ]
  },
  {
   "cell_type": "code",
   "execution_count": null,
   "id": "52402efc",
   "metadata": {},
   "outputs": [],
   "source": [
    "ax = sns.boxplot(df['status'],df['ano'])\n",
    "plt.xticks(rotation=90);"
   ]
  },
  {
   "cell_type": "code",
   "execution_count": null,
   "id": "472a723a",
   "metadata": {},
   "outputs": [],
   "source": [
    "ax = sns.boxplot(x=df['modalidade'],y=df['ano'])\n",
    "plt.xticks(rotation=90);"
   ]
  },
  {
   "cell_type": "code",
   "execution_count": null,
   "id": "d9517f42",
   "metadata": {},
   "outputs": [],
   "source": [
    "status = [x  for x in df_posprocessing.keys() if 'status' in x]\n",
    "campus = [x  for x in df_posprocessing.keys() if 'campus' in x]\n",
    "sns.set(rc={\"figure.figsize\":(14, 7)}) \n",
    "\n",
    "sns.heatmap(df_posprocessing[status + campus].corr());"
   ]
  },
  {
   "cell_type": "code",
   "execution_count": null,
   "id": "04fceebb",
   "metadata": {},
   "outputs": [],
   "source": [
    "status = [x  for x in df_posprocessing.keys() if 'status' in x]\n",
    "modalidade = [x  for x in df_posprocessing.keys() if 'modalidade' in x]\n",
    "sns.heatmap(df_posprocessing[status+modalidade].corr());"
   ]
  },
  {
   "cell_type": "code",
   "execution_count": null,
   "id": "528acd59",
   "metadata": {},
   "outputs": [],
   "source": [
    "ax = sns.barplot(y=\"ano\", x=\"status\", data=df)\n",
    "plt.xticks(rotation=90)\n",
    "plt.ylim([2005,2025])"
   ]
  },
  {
   "cell_type": "code",
   "execution_count": null,
   "id": "d4d40f51",
   "metadata": {},
   "outputs": [],
   "source": [
    "status = [x  for x in df_posprocessing.keys() if 'status' in x]\n",
    "sns.heatmap(df_posprocessing[['ano','nascimento']+status].corr());"
   ]
  },
  {
   "cell_type": "code",
   "execution_count": null,
   "id": "7d46eb56",
   "metadata": {},
   "outputs": [],
   "source": [
    "distancia = df[df['modalidade'] == 'À Distância']\n",
    "presencial = df[df['modalidade'] != 'À Distância']"
   ]
  },
  {
   "cell_type": "code",
   "execution_count": null,
   "id": "82cea654",
   "metadata": {},
   "outputs": [],
   "source": [
    "plot_count(distancia, 'ano')"
   ]
  },
  {
   "cell_type": "code",
   "execution_count": null,
   "id": "8e4203c3",
   "metadata": {},
   "outputs": [],
   "source": [
    "plot_count(presencial, 'ano')"
   ]
  },
  {
   "cell_type": "code",
   "execution_count": null,
   "id": "1aa1a299",
   "metadata": {},
   "outputs": [],
   "source": [
    "plot_count(distancia, 'status')"
   ]
  },
  {
   "cell_type": "code",
   "execution_count": null,
   "id": "ebb279c9",
   "metadata": {},
   "outputs": [],
   "source": [
    "plot_count(presencial, 'status')"
   ]
  },
  {
   "cell_type": "code",
   "execution_count": null,
   "id": "bfb07ae3",
   "metadata": {},
   "outputs": [],
   "source": [
    "ax = sns.boxplot(df['campus'],df['ano'])\n",
    "plt.xticks(rotation=90);"
   ]
  },
  {
   "cell_type": "code",
   "execution_count": null,
   "id": "fc5a11f4",
   "metadata": {},
   "outputs": [],
   "source": [
    "# verificando campus com mais alunos novos em 2013\n",
    "plot_count(df[df['ano'] == 2015], 'campus')"
   ]
  },
  {
   "cell_type": "code",
   "execution_count": null,
   "id": "62a8871e",
   "metadata": {},
   "outputs": [],
   "source": [
    "def entrada_campus(df, campus):\n",
    "    campus = df[df['campus'] == campus]\n",
    "    sns.displot(campus['ano'], kde=True, height=8, aspect=2.5)\n",
    "    plt.xticks(rotation=90)\n",
    "    plt.show()"
   ]
  },
  {
   "cell_type": "code",
   "execution_count": null,
   "id": "aea45232",
   "metadata": {},
   "outputs": [],
   "source": [
    "entrada_campus(df, 'Câmpus Goiânia')"
   ]
  },
  {
   "cell_type": "code",
   "execution_count": null,
   "id": "1667e246",
   "metadata": {},
   "outputs": [],
   "source": [
    "entrada_campus(df, 'Câmpus Anápolis')"
   ]
  },
  {
   "cell_type": "code",
   "execution_count": null,
   "id": "eb8f17eb",
   "metadata": {},
   "outputs": [],
   "source": [
    "evasao = df[df['status'] == 'Evasão']"
   ]
  },
  {
   "cell_type": "code",
   "execution_count": null,
   "id": "59a031ab",
   "metadata": {},
   "outputs": [],
   "source": [
    "evasao.count()"
   ]
  },
  {
   "cell_type": "code",
   "execution_count": null,
   "id": "799279da",
   "metadata": {},
   "outputs": [],
   "source": [
    "plot_count(evasao, 'renda')"
   ]
  },
  {
   "cell_type": "code",
   "execution_count": null,
   "id": "a812bf81",
   "metadata": {},
   "outputs": [],
   "source": [
    "plot_count(df, 'renda')"
   ]
  },
  {
   "cell_type": "code",
   "execution_count": null,
   "id": "35304615",
   "metadata": {},
   "outputs": [],
   "source": [
    "classes"
   ]
  },
  {
   "cell_type": "code",
   "execution_count": null,
   "id": "268d1ff8",
   "metadata": {},
   "outputs": [],
   "source": [
    "corpus = df['curso']\n",
    "vectorizer = TfidfVectorizer()\n",
    "X = vectorizer.fit_transform(corpus)\n",
    "vectorizer.get_feature_names_out()"
   ]
  },
  {
   "cell_type": "code",
   "execution_count": null,
   "id": "48491591",
   "metadata": {},
   "outputs": [],
   "source": [
    "n_clusters = df['curso'].unique().size\n",
    "kmeans = KMeans(n_clusters=n_clusters-1, random_state=0).fit(X)\n",
    "kmeans.labels_\n",
    "#kmeans.predict([[0, 0], [12, 3]])\n",
    "#kmeans.cluster_centers_"
   ]
  },
  {
   "cell_type": "code",
   "execution_count": null,
   "id": "777f638c",
   "metadata": {},
   "outputs": [],
   "source": []
  }
 ],
 "metadata": {
  "interpreter": {
   "hash": "2cc0ec54872397e1ff81575a1e24a4f33d4ed368e8b01dd4ca312b5d85a50efd"
  },
  "kernelspec": {
   "display_name": "Python 3.10.0 ('latest')",
   "language": "python",
   "name": "python3"
  },
  "language_info": {
   "codemirror_mode": {
    "name": "ipython",
    "version": 3
   },
   "file_extension": ".py",
   "mimetype": "text/x-python",
   "name": "python",
   "nbconvert_exporter": "python",
   "pygments_lexer": "ipython3",
   "version": "3.10.0"
  }
 },
 "nbformat": 4,
 "nbformat_minor": 5
}
