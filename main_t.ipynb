{
 "cells": [
  {
   "cell_type": "code",
   "execution_count": 78,
   "metadata": {},
   "outputs": [],
   "source": [
    "import pandas as pd\n",
    "import json\n",
    "from sklearn.cluster import KMeans\n",
    "import numpy as np\n",
    "from sklearn.metrics import davies_bouldin_score\n",
    "from sklearn.metrics import silhouette_score"
   ]
  },
  {
   "cell_type": "code",
   "execution_count": null,
   "id": "4382e851",
   "metadata": {},
   "outputs": [],
   "source": [
    "with open('data/dados_discentes.json', 'r') as f:\n",
    "    data = json.load(f)\n",
    "data"
   ]
  },
  {
   "cell_type": "code",
   "execution_count": null,
   "id": "18f6fe70",
   "metadata": {},
   "outputs": [],
   "source": []
  },
  {
   "cell_type": "code",
   "execution_count": null,
   "id": "19ac80c3",
   "metadata": {},
   "outputs": [],
   "source": [
    "df = {\n",
    "    'campus': [],\n",
    "    'ano': [],\n",
    "    'semestre': [],\n",
    "    'curso': [],\n",
    "    'tipo_curso': [],\n",
    "    'modalidade': [],\n",
    "    'sexo': [],\n",
    "    'escolaridade': [],\n",
    "    'algo': [],\n",
    "    'cor': [],\n",
    "    'nascimento': [],\n",
    "    'status': []\n",
    "}\n",
    "\n",
    "for itens in data:\n",
    "    item = itens['itens']\n",
    "    df['campus'].append(item[0]['valor'])\n",
    "    df['ano'].append(item[1]['valor'])\n",
    "    df['semestre'].append(item[2]['valor'])\n",
    "    df['curso'].append(item[3]['valor'])\n",
    "    df['tipo_curso'].append(item[4]['valor'])\n",
    "    df['modalidade'].append(item[5]['valor'])\n",
    "    df['sexo'].append(item[6]['valor'])\n",
    "    df['escolaridade'].append(item[7]['valor'])\n",
    "    df['algo'].append(item[8]['valor'])\n",
    "    df['cor'].append(item[9]['valor'])\n",
    "    df['nascimento'].append(item[10]['valor'])\n",
    "    df['status'].append(item[11]['valor'])\n",
    "\n",
    "df"
   ]
  },
  {
   "cell_type": "code",
   "execution_count": null,
   "id": "cc156432",
   "metadata": {},
   "outputs": [],
   "source": [
    "df = pd.DataFrame(df)"
   ]
  },
  {
   "cell_type": "code",
   "execution_count": null,
   "id": "cc156432",
   "metadata": {},
   "outputs": [],
   "source": [
    "df"
   ]
  },
  {
   "cell_type": "code",
   "execution_count": null,
   "id": "fab2e03e",
   "metadata": {},
   "outputs": [],
   "source": [
    "# for col in df.columns:\n",
    "#     print(df[[col]].groupby([col]).sum())\n",
    "\n",
    "# não tem valores nulos"
   ]
  },
  {
   "cell_type": "code",
   "execution_count": null,
   "id": "5a42bb29",
   "metadata": {},
   "outputs": [],
   "source": [
    "numericos = ['ano', 'semestre', 'nascimento']\n",
    "\n",
    "df[numericos] = df[numericos].astype(int)\n",
    "\n",
    "df.info()\n",
    "df\n"
   ]
  },
  {
   "cell_type": "code",
   "execution_count": null,
   "id": "6c0b3a9b",
   "metadata": {},
   "outputs": [],
   "source": [
    "categoricos = [col for col in df.columns if col not in numericos]\n",
    "\n",
    "df_posprocessing = df.copy()\n",
    "df_posprocessing = df_posprocessing.drop(columns=categoricos)\n",
    "\n",
    "ohc = pd.get_dummies(df[categoricos])\n",
    "\n",
    "df_posprocessing[ohc.columns] = ohc\n",
    "df_posprocessing"
   ]
  },
  {
   "cell_type": "code",
   "execution_count": null,
   "id": "5a48b22a",
   "metadata": {},
   "outputs": [],
   "source": [
    "for col in df_posprocessing:\n",
    "    print(col)"
   ]
  },
  {
   "cell_type": "code",
   "execution_count": null,
   "id": "7fa399db",
   "metadata": {},
   "outputs": [],
   "source": [
    "df_posprocessing[['semestre']].describe()"
   ]
  },
  {
   "cell_type": "code",
   "execution_count": null,
   "id": "ea290f58",
   "metadata": {},
   "outputs": [],
   "source": [
    "for col in numericos:\n",
    "    df_posprocessing[col] = (df_posprocessing[col] - df_posprocessing[col].min()) / (df_posprocessing[col].max() - df_posprocessing[col].min())"
   ]
  },
  {
   "cell_type": "code",
   "execution_count": null,
   "id": "9d722db6",
   "metadata": {},
   "outputs": [],
   "source": [
    "df_posprocessing[numericos]"
   ]
  },
  {
   "cell_type": "code",
   "execution_count": null,
   "id": "f029987f",
   "metadata": {},
   "outputs": [],
   "source": [
    "df_posprocessing.corr()['status_Não Concluído']"
   ]
  },
  {
   "cell_type": "code",
   "execution_count": null,
   "id": "44391ac9",
   "metadata": {},
   "outputs": [],
   "source": [
    "df"
   ]
  },
  {
   "cell_type": "markdown",
   "id": "1fd642f6",
   "metadata": {},
   "source": [
    "# 12-04 - agrupamento"
   ]
  },
  {
   "cell_type": "markdown",
   "id": "9bc05323",
   "metadata": {},
   "source": [
    "# tf idf"
   ]
  },
  {
   "cell_type": "code",
   "execution_count": null,
   "id": "4c9570cf",
   "metadata": {},
   "outputs": [],
   "source": [
    "from sklearn.feature_extraction.text import TfidfVectorizer\n",
    "corpus =  df['curso'].unique()\n",
    "vectorizer = TfidfVectorizer()\n",
    "X = vectorizer.fit_transform(corpus)\n",
    "vectorizer.get_feature_names_out()\n",
    "\n"
   ]
  },
  {
   "cell_type": "markdown",
   "id": "f9226142",
   "metadata": {},
   "source": [
    "# amt uniq values Curso"
   ]
  },
  {
   "cell_type": "code",
   "execution_count": null,
   "id": "c73ec549",
   "metadata": {},
   "outputs": [],
   "source": [
    "amt_cursos = df['curso'].unique().size"
   ]
  },
  {
   "cell_type": "markdown",
   "id": "827de23d",
   "metadata": {},
   "source": [
    "# faz o Means\n"
   ]
  },
  {
   "cell_type": "code",
   "execution_count": null,
   "id": "838772c1",
   "metadata": {},
   "outputs": [],
   "source": []
  },
  {
   "cell_type": "markdown",
   "id": "1acf8d11",
   "metadata": {},
   "source": [
    "# pegando o davies bouldin"
   ]
  },
  {
   "cell_type": "code",
   "execution_count": null,
   "id": "17e9e4b9",
   "metadata": {},
   "outputs": [],
   "source": []
  },
  {
   "cell_type": "code",
   "execution_count": 80,
   "id": "9279201c",
   "metadata": {},
   "outputs": [],
   "source": [
    "def cluster_fit(amt_cluster, metric='db'):\n",
    "    kmeans = KMeans(n_clusters=amt_cluster, random_state=0).fit(X)\n",
    "    kmeans.labels_\n",
    "    if metric == 'db': \n",
    "        return  davies_bouldin_score(X.toarray() , kmeans.labels_)\n",
    "    else:\n",
    "        return  silhouette_score(X.toarray() , kmeans.labels_)"
   ]
  },
  {
   "cell_type": "code",
   "execution_count": 83,
   "id": "3b41b0b2",
   "metadata": {},
   "outputs": [
    {
     "data": {
      "text/plain": [
       "0.14334397581837488"
      ]
     },
     "execution_count": 83,
     "metadata": {},
     "output_type": "execute_result"
    }
   ],
   "source": [
    "cluster_fit(155)"
   ]
  },
  {
   "cell_type": "code",
   "execution_count": 76,
   "id": "76d62809",
   "metadata": {},
   "outputs": [],
   "source": [
    "arr = []\n",
    "for i in range(70,156):\n",
    "    arr.append([i,cluster_fit(i)])"
   ]
  },
  {
   "cell_type": "code",
   "execution_count": 86,
   "id": "67de2c9b",
   "metadata": {},
   "outputs": [],
   "source": [
    "stt = [[i,cluster_fit(i, metric='stt')] for i in range(2, 156)]"
   ]
  },
  {
   "cell_type": "code",
   "execution_count": 87,
   "id": "6e07de10",
   "metadata": {},
   "outputs": [
    {
     "data": {
      "text/plain": [
       "[[155, 0.013500008753387928],\n",
       " [154, 0.020106164540197907],\n",
       " [153, 0.027259426119387715],\n",
       " [152, 0.03307567896820316],\n",
       " [151, 0.03659954609014799],\n",
       " [150, 0.04014428228293632],\n",
       " [149, 0.04281078226904856],\n",
       " [148, 0.048451986610350946],\n",
       " [147, 0.05392637795193531],\n",
       " [142, 0.05427305331198529],\n",
       " [141, 0.054921973048584316],\n",
       " [146, 0.05568301299648681],\n",
       " [145, 0.05571739374848144],\n",
       " [143, 0.05586433865536799],\n",
       " [139, 0.056220534283934934],\n",
       " [144, 0.060553893364331556],\n",
       " [140, 0.061003835571361874],\n",
       " [136, 0.06146861773358481],\n",
       " [138, 0.06184669820991195],\n",
       " [137, 0.06341727637585386],\n",
       " [135, 0.06559397887917068],\n",
       " [134, 0.06812545904321811],\n",
       " [130, 0.07166257455228887],\n",
       " [133, 0.07218960227419528],\n",
       " [128, 0.0729646523465022],\n",
       " [4, 0.07425222293001085],\n",
       " [132, 0.07570903361411446],\n",
       " [126, 0.07637864077446521],\n",
       " [129, 0.0784521705698033],\n",
       " [127, 0.07857390105587762],\n",
       " [2, 0.07889036529904773],\n",
       " [131, 0.07906013142672993],\n",
       " [124, 0.0820498522838196],\n",
       " [125, 0.08494952761129416],\n",
       " [123, 0.08661746939850039],\n",
       " [121, 0.08775147380340291],\n",
       " [118, 0.09108207774313608],\n",
       " [3, 0.09113899181122785],\n",
       " [114, 0.09188236240996166],\n",
       " [122, 0.09270260946884064],\n",
       " [119, 0.09406390057956808],\n",
       " [117, 0.09593711749677032],\n",
       " [120, 0.099090557352437],\n",
       " [110, 0.10168799929329227],\n",
       " [116, 0.10181740293808467],\n",
       " [5, 0.10277254322495756],\n",
       " [109, 0.10458704803647892],\n",
       " [112, 0.104998555680437],\n",
       " [6, 0.10631274274451263],\n",
       " [107, 0.10874573706166295],\n",
       " [113, 0.10967991162583052],\n",
       " [111, 0.11060114322596014],\n",
       " [105, 0.11153511514954824],\n",
       " [104, 0.11179971028017105],\n",
       " [103, 0.1121968687806608],\n",
       " [106, 0.11232523153810549],\n",
       " [13, 0.1130925568311099],\n",
       " [115, 0.11323038143121547],\n",
       " [96, 0.11337401005050048],\n",
       " [20, 0.11432050495197137],\n",
       " [9, 0.11463137833530784],\n",
       " [102, 0.11602086839669111],\n",
       " [12, 0.11717571966580241],\n",
       " [97, 0.11737304904423983],\n",
       " [99, 0.11829764539748437],\n",
       " [100, 0.11913681437302934],\n",
       " [26, 0.11941728540715507],\n",
       " [7, 0.11984669577768683],\n",
       " [94, 0.12070134403047407],\n",
       " [98, 0.12087157695585397],\n",
       " [17, 0.12096320817125976],\n",
       " [10, 0.12160548416514158],\n",
       " [18, 0.12178775254722497],\n",
       " [14, 0.12213945981401332],\n",
       " [108, 0.12243239736326149],\n",
       " [11, 0.12255712673163906],\n",
       " [22, 0.12260097560542543],\n",
       " [19, 0.12276421197698009],\n",
       " [89, 0.12332482172273877],\n",
       " [21, 0.12368277693729807],\n",
       " [27, 0.12485075062417707],\n",
       " [47, 0.1250230625422054],\n",
       " [77, 0.1253638405896209],\n",
       " [25, 0.12555939331321495],\n",
       " [42, 0.12556145177496497],\n",
       " [33, 0.12580139994513814],\n",
       " [35, 0.12581931924579512],\n",
       " [28, 0.12691944344830272],\n",
       " [8, 0.12766278778578943],\n",
       " [83, 0.12777274089758872],\n",
       " [86, 0.1294526220986956],\n",
       " [23, 0.12961951941498898],\n",
       " [16, 0.12987789637795752],\n",
       " [101, 0.1305194335682937],\n",
       " [54, 0.13222292560657953],\n",
       " [91, 0.13501810642096515],\n",
       " [24, 0.13571637758246943],\n",
       " [29, 0.13589550527857822],\n",
       " [75, 0.13657541175619176],\n",
       " [31, 0.13776253786130874],\n",
       " [15, 0.13795116471995067],\n",
       " [62, 0.14020130586407203],\n",
       " [84, 0.14041442578759067],\n",
       " [39, 0.14104003407966478],\n",
       " [95, 0.1410534368012243],\n",
       " [32, 0.14334114189894154],\n",
       " [36, 0.1442150884203798],\n",
       " [85, 0.14495095880321032],\n",
       " [79, 0.14498418317281045],\n",
       " [82, 0.14536394835299252],\n",
       " [73, 0.14661766501249482],\n",
       " [30, 0.14836219738546566],\n",
       " [38, 0.14871848812036972],\n",
       " [41, 0.1494060015786383],\n",
       " [71, 0.14960094272566504],\n",
       " [43, 0.15155346064324557],\n",
       " [37, 0.1516120981644104],\n",
       " [44, 0.15176959579898663],\n",
       " [46, 0.15342972529821736],\n",
       " [34, 0.15346762712924122],\n",
       " [92, 0.15500040272999696],\n",
       " [90, 0.15527934817843173],\n",
       " [49, 0.15714294326202344],\n",
       " [74, 0.1572810710227786],\n",
       " [93, 0.157448753996808],\n",
       " [53, 0.15755570509560735],\n",
       " [65, 0.15767663592784992],\n",
       " [52, 0.1582486753393159],\n",
       " [72, 0.15927782973346685],\n",
       " [45, 0.15992506450204727],\n",
       " [40, 0.1600577201549877],\n",
       " [48, 0.16066911793983976],\n",
       " [50, 0.16142843838697085],\n",
       " [76, 0.16252896583323265],\n",
       " [80, 0.16319174633560699],\n",
       " [78, 0.16341840851728698],\n",
       " [81, 0.16411860547065987],\n",
       " [88, 0.16504152283430676],\n",
       " [87, 0.16574481877532507],\n",
       " [66, 0.16594504588764486],\n",
       " [70, 0.16640854660282223],\n",
       " [68, 0.16652539315294052],\n",
       " [51, 0.1666140606479991],\n",
       " [69, 0.16727760975842954],\n",
       " [64, 0.17079541067439039],\n",
       " [55, 0.17244340176167533],\n",
       " [63, 0.1724614203056896],\n",
       " [59, 0.1739838444039464],\n",
       " [60, 0.1739991340139888],\n",
       " [56, 0.17417886831182758],\n",
       " [67, 0.17419999922956925],\n",
       " [58, 0.17422292361872482],\n",
       " [61, 0.17469860438720525],\n",
       " [57, 0.17961082311788315]]"
      ]
     },
     "execution_count": 87,
     "metadata": {},
     "output_type": "execute_result"
    }
   ],
   "source": [
    "sorted(stt,key=lambda x: x[1])\n"
   ]
  },
  {
   "cell_type": "code",
   "execution_count": 77,
   "id": "fea59dc0",
   "metadata": {},
   "outputs": [
    {
     "data": {
      "text/plain": [
       "[[155, 0.14334397581837488],\n",
       " [154, 0.169002778736354],\n",
       " [153, 0.18632179558188863],\n",
       " [152, 0.20301023271380556],\n",
       " [151, 0.21152485982632283],\n",
       " [150, 0.21502862148637628],\n",
       " [149, 0.22776354692210007],\n",
       " [148, 0.24092596725528118],\n",
       " [147, 0.24938283532842784],\n",
       " [146, 0.274006329625099],\n",
       " [145, 0.30443695781404273],\n",
       " [144, 0.3318713009660141],\n",
       " [143, 0.38090327264909013],\n",
       " [141, 0.40645937201787363],\n",
       " [140, 0.4168114913019283],\n",
       " [142, 0.41964055818525237],\n",
       " [137, 0.430000264984498],\n",
       " [136, 0.43405576234051313],\n",
       " [139, 0.4353690858237513],\n",
       " [138, 0.4365550374082101],\n",
       " [133, 0.44575479092131876],\n",
       " [132, 0.44866023693657864],\n",
       " [134, 0.4509156724563508],\n",
       " [135, 0.45483558522890855],\n",
       " [130, 0.4611987245547137],\n",
       " [131, 0.46882019562237665],\n",
       " [129, 0.4702237563806731],\n",
       " [127, 0.4708690759827456],\n",
       " [128, 0.4734924098436558],\n",
       " [125, 0.4741572119111461],\n",
       " [126, 0.48476354712895975],\n",
       " [122, 0.48722142944868846],\n",
       " [124, 0.48827976729273953],\n",
       " [120, 0.49126085757900634],\n",
       " [123, 0.49255263653421466],\n",
       " [121, 0.4965442273004944],\n",
       " [119, 0.5012549375898153],\n",
       " [115, 0.5053826543818525],\n",
       " [117, 0.5091979533892361],\n",
       " [118, 0.5113208007238387],\n",
       " [113, 0.5142848653256855],\n",
       " [116, 0.5166268523909817],\n",
       " [111, 0.5291420725729307],\n",
       " [114, 0.5352974588909902],\n",
       " [112, 0.5414438805752131],\n",
       " [110, 0.545282206637385],\n",
       " [109, 0.5495427785487296],\n",
       " [108, 0.5504964495579808],\n",
       " [106, 0.5626108452324202],\n",
       " [105, 0.5632622266189348],\n",
       " [107, 0.5644485630692372],\n",
       " [102, 0.5787066767833134],\n",
       " [104, 0.5802358380332033],\n",
       " [100, 0.5967976626346365],\n",
       " [101, 0.6085631401242227],\n",
       " [99, 0.6124470525132621],\n",
       " [98, 0.6139225261446167],\n",
       " [103, 0.6225514939323433],\n",
       " [97, 0.6339350384258676],\n",
       " [96, 0.6670273707862434],\n",
       " [95, 0.6911210231490261],\n",
       " [91, 0.6918167708285993],\n",
       " [93, 0.7161257847141512],\n",
       " [94, 0.7259829742743223],\n",
       " [90, 0.7361873344265066],\n",
       " [92, 0.7368966659585894],\n",
       " [89, 0.777041602963348],\n",
       " [85, 0.80415298992913],\n",
       " [87, 0.8290266899138025],\n",
       " [86, 0.8343086079738172],\n",
       " [83, 0.8468018346079424],\n",
       " [88, 0.8583841026570127],\n",
       " [79, 0.8887477640852124],\n",
       " [80, 0.888778367540694],\n",
       " [84, 0.8910459784447189],\n",
       " [82, 0.8941502134382866],\n",
       " [78, 0.8977029329823645],\n",
       " [81, 0.9096053390853086],\n",
       " [76, 0.926252353326881],\n",
       " [77, 0.9472877558833183],\n",
       " [75, 0.9661211930995112],\n",
       " [74, 0.9710182817836986],\n",
       " [72, 0.9914844943209999],\n",
       " [71, 1.000749297934864],\n",
       " [70, 1.0114536444020301],\n",
       " [73, 1.0289437594663557]]"
      ]
     },
     "execution_count": 77,
     "metadata": {},
     "output_type": "execute_result"
    }
   ],
   "source": [
    "sorted(arr,key=lambda x: x[1])"
   ]
  },
  {
   "cell_type": "markdown",
   "id": "cad1592e",
   "metadata": {},
   "source": [
    "# TODO "
   ]
  },
  {
   "cell_type": "markdown",
   "id": "2d1c1bb0",
   "metadata": {},
   "source": []
  }
 ],
 "metadata": {
  "interpreter": {
   "hash": "916dbcbb3f70747c44a77c7bcd40155683ae19c65e1c03b4aa3499c5328201f1"
  },
  "kernelspec": {
   "display_name": "Python 3.8.10 64-bit",
   "language": "python",
   "name": "python3"
  },
  "language_info": {
   "codemirror_mode": {
    "name": "ipython",
    "version": 3
   },
   "file_extension": ".py",
   "mimetype": "text/x-python",
   "name": "python",
   "nbconvert_exporter": "python",
   "pygments_lexer": "ipython3",
   "version": "3.8.10"
  }
 },
 "nbformat": 4,
 "nbformat_minor": 5
}
